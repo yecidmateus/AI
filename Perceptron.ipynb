{
  "nbformat": 4,
  "nbformat_minor": 0,
  "metadata": {
    "colab": {
      "name": "Perceptron.ipynb",
      "provenance": [],
      "collapsed_sections": [],
      "include_colab_link": true
    },
    "kernelspec": {
      "name": "python3",
      "display_name": "Python 3"
    },
    "accelerator": "TPU"
  },
  "cells": [
    {
      "cell_type": "markdown",
      "metadata": {
        "id": "view-in-github",
        "colab_type": "text"
      },
      "source": [
        "<a href=\"https://colab.research.google.com/github/yecidmateus/AI/blob/master/Perceptron.ipynb\" target=\"_parent\"><img src=\"https://colab.research.google.com/assets/colab-badge.svg\" alt=\"Open In Colab\"/></a>"
      ]
    },
    {
      "cell_type": "code",
      "metadata": {
        "id": "E01ISQyG4oW6",
        "colab_type": "code",
        "colab": {}
      },
      "source": [
        "from pylab import rand,plot,show,norm\n",
        "\n",
        "class Perceptron:\n",
        " def __init__(self):\n",
        "  \"\"\" perceptron initialization \"\"\"\n",
        "  self.w = rand(2)*2-1 # weights\n",
        "  self.learningRate = 0.1\n",
        "\n",
        " def response(self,x):\n",
        "  \"\"\" perceptron output \"\"\"\n",
        "  y = x[0]*self.w[0]+x[1]*self.w[1] # dot product between w and x\n",
        "  if y >= 0:\n",
        "   return 1\n",
        "  else:\n",
        "   return -1\n",
        "\n",
        " def updateWeights(self,x,iterError):\n",
        "  \"\"\"\n",
        "   updates the weights status, w at time t+1 is\n",
        "       w(t+1) = w(t) + learningRate*(d-r)*x\n",
        "   where d is desired output and r the perceptron response\n",
        "   iterError is (d-r)\n",
        "  \"\"\"\n",
        "  self.w[0] += self.learningRate*iterError*x[0]\n",
        "  self.w[1] += self.learningRate*iterError*x[1]\n",
        "\n",
        " def train(self,data):\n",
        "  \"\"\" \n",
        "   trains all the vector in data.\n",
        "   Every vector in data must have three elements,\n",
        "   the third element (x[2]) must be the label (desired output)\n",
        "  \"\"\"\n",
        "  learned = False\n",
        "  iteration = 0\n",
        "  while not learned:\n",
        "   globalError = 0.0\n",
        "   for x in data: # for each sample\n",
        "    r = self.response(x)    \n",
        "    if x[2] != r: # if we have a wrong response\n",
        "     iterError = x[2] - r # desired response - actual response\n",
        "     self.updateWeights(x,iterError)\n",
        "     globalError += abs(iterError)\n",
        "   iteration += 1\n",
        "   if globalError == 0.0 or iteration >= 100: # stop criteria\n",
        "    print ('iterations',iteration)\n",
        "    learned = True # stop learning"
      ],
      "execution_count": 0,
      "outputs": []
    },
    {
      "cell_type": "markdown",
      "metadata": {
        "id": "xEU1iyydqcFY",
        "colab_type": "text"
      },
      "source": [
        "#Inicializamos el Perceptrón\n",
        "Definimos los pesos del perceptrón de manera aleatoria con la función random y la tasa de entrenamiento con la función learning rate.\n",
        "\n",
        "#Definimos la salida deseada del perceptrón\n",
        "#y = g(a) = g (∑ wi*xi + w0)  ==> g (wi *xi)\n",
        "\n",
        "#Definimos el entrenamiento o aprendizaje de la red \n",
        "\n",
        "Para que la red alcance el valor adecuado para los pesos, es necesario someterla a un\n",
        "entrenamiento o aprendizaje. Una de las primeras reglas de aprendizaje fue propuesta\n",
        "por D. Hebb en 1949 [Hebb, 1949], y se basa en un hecho biológico constatado: cuando\n",
        "dos neuronas se activan simultáneamente su conexión se refuerza. Esto es, cuando una\n",
        "neurona tiene un nivel positivo de actividad y se siente estimulada por otra neurona,\n",
        "tiende a producirse un refuerzo en la conexión que las enlaza. Por el contrario, si una\n",
        "neurona tiende a inhibir a otra, la fuerza de conexión entre ambas también tiende a\n",
        "disminuir. Suponiendo que en el modelo de la Figura 15.1, la entrada xi es la salida\n",
        "de otra neurona, el peso wi será incrementado cuando xi e y sean positivos, pero\n",
        "también lo hará cuando ambos parámetros sean negativos. En contraposición, dicho\n",
        "peso se decrementará cuando xi e y tengan signos contrarios. Esta idea se expresa\n",
        "matemáticamente como:\n",
        "wi(τ + 1) = wi(τ) + ηxiy, (15.12)\n",
        "esto es, un peso wi en un determinado instante del entrenamiento τ + 1, es igual\n",
        "al peso en el instante anterior más un incremento o decremento. La magnitud de\n",
        "dicho cambio viene determinada tanto por la entrada xi y la salida y de la neurona\n",
        "como por η conocida como ratio o tasa de aprendizaje. Esta es una constante positiva\n",
        "que determina en qué proporción se modifica el peso sináptico (cuanto mayor es la\n",
        "modificación) y, en cierto modo, controla la velocidad del proceso de aprendizaje. Se\n",
        "puede observar que esta regla de aprendizaje es no supervisada, ya que se emplea la\n",
        "salida de la neurona, y, pero no la salida deseada, t.\n",
        "\n",
        "#Definimos el entrenamiento de la red\n",
        "trains all the vector in data.\n",
        "\n",
        "Every vector in data must have three elements,\n",
        "   the third element (x[2]) must be the label (desired output)\n",
        "  \"\"\""
      ]
    },
    {
      "cell_type": "code",
      "metadata": {
        "id": "eOJDB9fMgyPD",
        "colab_type": "code",
        "colab": {}
      },
      "source": [
        "#Perceptrons can only classify data when the two classes can be divided by a straight line (or, more generally, a hyperplane \n",
        "#if there are more than two inputs). This is called linear separation. Here is a function that generates a linearly separablen random dataset.\n",
        "\n",
        "def generateData(n):\n",
        "# generates a 2D linearly separable dataset with n samples. The third element of the sample is the label \"\"\"\n",
        " xb = (rand(n)*2-1)/2-0.5\n",
        " yb = (rand(n)*2-1)/2+0.5\n",
        " xr = (rand(n)*2-1)/2+0.5\n",
        " yr = (rand(n)*2-1)/2-0.5\n",
        " inputs = []\n",
        " for i in range(len(xb)):\n",
        "  inputs.append([xb[i],yb[i],1])\n",
        "  inputs.append([xr[i],yr[i],-1])\n",
        " return inputs"
      ],
      "execution_count": 0,
      "outputs": []
    },
    {
      "cell_type": "code",
      "metadata": {
        "id": "SxOK5V4qgzYZ",
        "colab_type": "code",
        "colab": {
          "base_uri": "https://localhost:8080/",
          "height": 287
        },
        "outputId": "6c44b793-1e8c-40bf-99ca-1f76de72e3c9"
      },
      "source": [
        "#And now we can use the Perceptron. We generate two dataset, the first one is used to train the classifier (train set), \n",
        "#and the second one is used to test it (test set):\n",
        "trainset = generateData(30) # train set generation\n",
        "perceptron = Perceptron()   # perceptron instance\n",
        "perceptron.train(trainset)  # training\n",
        "testset = generateData(20)  # test set generation\n",
        "\n",
        "# Perceptron test\n",
        "for x in testset:\n",
        " r = perceptron.response(x)\n",
        " if r != x[2]: # if the response is not correct\n",
        "  print ('error')\n",
        " if r == 1:\n",
        "  plot(x[0],x[1],'ob')  \n",
        " else:\n",
        "  plot(x[0],x[1],'or')\n",
        "\n",
        "# plot of the separation line.\n",
        "# The separation line is orthogonal to w\n",
        "n = norm(perceptron.w)\n",
        "ww = perceptron.w/n\n",
        "ww1 = [ww[1],-ww[0]]\n",
        "ww2 = [-ww[1],ww[0]]\n",
        "plot([ww1[0], ww2[0]],[ww1[1], ww2[1]],'--k')\n",
        "show()"
      ],
      "execution_count": 3,
      "outputs": [
        {
          "output_type": "stream",
          "text": [
            "iterations 2\n"
          ],
          "name": "stdout"
        },
        {
          "output_type": "display_data",
          "data": {
            "image/png": "[encoded data removed]",
            "text/plain": [
              "<Figure size 432x288 with 1 Axes>"
            ]
          },
          "metadata": {
            "tags": []
          }
        }
      ]
    }
  ]
}